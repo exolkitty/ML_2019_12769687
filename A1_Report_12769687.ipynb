{
  "nbformat": 4,
  "nbformat_minor": 0,
  "metadata": {
    "colab": {
      "name": "A1_Report_12769687.ipynb",
      "version": "0.3.2",
      "provenance": [],
      "include_colab_link": true
    },
    "kernelspec": {
      "name": "python3",
      "display_name": "Python 3"
    }
  },
  "cells": [
    {
      "cell_type": "markdown",
      "metadata": {
        "id": "view-in-github",
        "colab_type": "text"
      },
      "source": [
        "<a href=\"https://colab.research.google.com/github/exolkitty/ML_2019_12769687/blob/master/A1_Report_12769687.ipynb\" target=\"_parent\"><img src=\"https://colab.research.google.com/assets/colab-badge.svg\" alt=\"Open In Colab\"/></a>"
      ]
    },
    {
      "cell_type": "markdown",
      "metadata": {
        "id": "bMB25mwnfh7C",
        "colab_type": "text"
      },
      "source": [
        "# Content"
      ]
    },
    {
      "cell_type": "markdown",
      "metadata": {
        "id": "3Furx3Qafree",
        "colab_type": "text"
      },
      "source": [
        "## Background of the Research"
      ]
    },
    {
      "cell_type": "markdown",
      "metadata": {
        "id": "we1gIwfRfyM9",
        "colab_type": "text"
      },
      "source": [
        "The research is about xxx."
      ]
    },
    {
      "cell_type": "markdown",
      "metadata": {
        "id": "cDMXEX6Rf3bz",
        "colab_type": "text"
      },
      "source": [
        ""
      ]
    },
    {
      "cell_type": "markdown",
      "metadata": {
        "id": "NhTlWm6Qfu74",
        "colab_type": "text"
      },
      "source": [
        "## Proposed Technique"
      ]
    },
    {
      "cell_type": "markdown",
      "metadata": {
        "id": "jqr3Lh-af4Lb",
        "colab_type": "text"
      },
      "source": [
        "The entropy is defined as $\\sum_i p(i) \\log p(i)$"
      ]
    },
    {
      "cell_type": "code",
      "metadata": {
        "id": "_yF-SQ-lguR9",
        "colab_type": "code",
        "colab": {}
      },
      "source": [
        "import numpy as np\n",
        "x = np.random.rand(1, 20)"
      ],
      "execution_count": 0,
      "outputs": []
    },
    {
      "cell_type": "markdown",
      "metadata": {
        "id": "9GfPOsL1fnO4",
        "colab_type": "text"
      },
      "source": [
        "# Technical Innovation"
      ]
    }
  ]
}